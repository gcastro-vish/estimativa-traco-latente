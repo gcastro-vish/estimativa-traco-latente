{
 "cells": [
  {
   "attachments": {},
   "cell_type": "markdown",
   "metadata": {},
   "source": [
    "# Estimativa do traço latente utilizando o ML3 e com parâmetros dos itens conhecidos"
   ]
  },
  {
   "cell_type": "markdown",
   "metadata": {},
   "source": [
    "# Estimativa do traço latente utilizando o ML3 e com parâmetros dos itens conhecidos"
   ]
  },
  {
   "attachments": {},
   "cell_type": "markdown",
   "metadata": {},
   "source": [
    "## Modelo logístico com 3 parâmetros (ML3)\n",
    "\n",
    "- Modelo unidimensional (1 variável latente)\n",
    "\n",
    "\\begin{align*}\n",
    "    P(U_{ij} = 1 | \\theta_j) = c_i+(1-c_i)\\frac{1}{ 1 + e^{ -Da_i(\\theta_j-b_i) } }\n",
    "\\end{align*}\n",
    "\n",
    "* $U_{ij}$ : variável dicotômica (*certo ($1$) ou errado ($0$)*)\n",
    "* $\\theta_{j}$ : habilidade do indivíduo $j$ (*traço latente*)\n",
    "* $P(U_{ij} = 1 | \\theta_{j})$ : probabilidade do indivíduo $j$ acertar o item $i$ (*Função resposta do item $i$*)\n",
    "* $b_{i}$ : parâmetro de dificuldade do item $i$\n",
    "* $a_{i}$ : parâmetro de discriminação do item $i$\n",
    "* $c_{i}$ : parâmetro de probabilidade de *acerto casual* do item $i$\n",
    "* $D$ : fator de escala, **constante igual a 1** (*1,7 para função ogiva normal*)"
   ]
  },
  {
   "cell_type": "code",
   "execution_count": 14,
   "metadata": {
    "vscode": {
     "languageId": "r"
    }
   },
   "outputs": [
    {
     "name": "stderr",
     "output_type": "stream",
     "text": [
      "Warning message:\n",
      "\"package 'mirtCAT' was built under R version 4.1.3\"\n",
      "Carregando pacotes exigidos: shiny\n",
      "\n",
      "Warning message:\n",
      "\"package 'shiny' was built under R version 4.1.3\"\n",
      "Error: package or namespace load failed for 'shiny' in loadNamespace(i, c(lib.loc, .libPaths()), versionCheck = vI[[i]]):\n",
      " namespace 'htmltools' 0.5.1.1 is already loaded, but >= 0.5.4 is required\n",
      "\n"
     ]
    },
    {
     "ename": "ERROR",
     "evalue": "Error: package 'shiny' could not be loaded\n",
     "output_type": "error",
     "traceback": [
      "Error: package 'shiny' could not be loaded\nTraceback:\n",
      "1. library(mirtCAT)",
      "2. .getRequiredPackages2(pkgInfo, quietly = quietly)",
      "3. stop(gettextf(\"package %s could not be loaded\", sQuote(pkg)), \n .     call. = FALSE, domain = NA)"
     ]
    }
   ],
   "source": [
    "library(mirt)\n",
    "library(mirtCAT)\n",
    "library(shiny)"
   ]
  },
  {
   "cell_type": "code",
   "execution_count": 5,
   "metadata": {
    "vscode": {
     "languageId": "r"
    }
   },
   "outputs": [],
   "source": [
    "a1 = rep(1.8, 5)\n",
    "d = c(-3, -1.5, 0, 1.5, 3)\n",
    "g = rep(0.2, 5)"
   ]
  },
  {
   "cell_type": "code",
   "execution_count": 6,
   "metadata": {
    "vscode": {
     "languageId": "r"
    }
   },
   "outputs": [],
   "source": [
    "params <- data.frame(a1 = a1,\n",
    "                    d = d,\n",
    "                    g = g)"
   ]
  },
  {
   "cell_type": "code",
   "execution_count": 7,
   "metadata": {
    "vscode": {
     "languageId": "r"
    }
   },
   "outputs": [],
   "source": [
    "estimate_latent_trace = function(model, params, pattern){\n",
    "\n",
    "    mo = generate.mirt_object(parameters = params, itemtype = model)\n",
    "\n",
    "    scores = fscores(mo, response.pattern = pattern)\n",
    "    colnames(scores) = c('Estimativa', 'Erro Padrão')\n",
    "\n",
    "    return(scores)\n",
    "}"
   ]
  },
  {
   "cell_type": "code",
   "execution_count": 8,
   "metadata": {
    "vscode": {
     "languageId": "r"
    }
   },
   "outputs": [
    {
     "ename": "ERROR",
     "evalue": "Error in generate.mirt_object(parameters = params, itemtype = model): não foi possível encontrar a função \"generate.mirt_object\"\n",
     "output_type": "error",
     "traceback": [
      "Error in generate.mirt_object(parameters = params, itemtype = model): não foi possível encontrar a função \"generate.mirt_object\"\nTraceback:\n",
      "1. estimate_latent_trace(\"3PL\", params, c(0, 1, 1, 1, 0))"
     ]
    }
   ],
   "source": [
    "estimate_latent_trace('3PL', params, c(0,1,1,1,0))"
   ]
  }
 ],
 "metadata": {
  "kernelspec": {
   "display_name": "R",
   "language": "R",
   "name": "ir"
  },
  "language_info": {
   "codemirror_mode": "r",
   "file_extension": ".r",
   "mimetype": "text/x-r-source",
   "name": "R",
   "pygments_lexer": "r",
   "version": "4.1.1"
  },
  "orig_nbformat": 4,
  "vscode": {
   "interpreter": {
    "hash": "88b91af9b06ce024a26fa6ce81e0bda8db1f395fa9fff64cea0b19ecfd3f0cc1"
   }
  }
 },
 "nbformat": 4,
 "nbformat_minor": 2
}
