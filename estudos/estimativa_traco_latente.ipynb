{
 "cells": [
  {
   "attachments": {},
   "cell_type": "markdown",
   "metadata": {},
   "source": [
    "# Estimativa do traço latente utilizando o ML3 e com parâmetros dos itens conhecidos"
   ]
  },
  {
   "cell_type": "markdown",
   "metadata": {},
   "source": [
    "# Estimativa do traço latente utilizando o ML3 e com parâmetros dos itens conhecidos"
   ]
  },
  {
   "attachments": {},
   "cell_type": "markdown",
   "metadata": {},
   "source": [
    "## Modelo logístico com 3 parâmetros (ML3)\n",
    "\n",
    "- Modelo unidimensional (1 variável latente)\n",
    "\n",
    "\\begin{align*}\n",
    "    P(U_{ij} = 1 | \\theta_j) = c_i+(1-c_i)\\frac{1}{ 1 + e^{ -Da_i(\\theta_j-b_i) } }\n",
    "\\end{align*}\n",
    "\n",
    "* $U_{ij}$ : variável dicotômica (*certo ($1$) ou errado ($0$)*)\n",
    "* $\\theta_{j}$ : habilidade do indivíduo $j$ (*traço latente*)\n",
    "* $P(U_{ij} = 1 | \\theta_{j})$ : probabilidade do indivíduo $j$ acertar o item $i$ (*Função resposta do item $i$*)\n",
    "* $b_{i}$ : parâmetro de dificuldade do item $i$\n",
    "* $a_{i}$ : parâmetro de discriminação do item $i$\n",
    "* $c_{i}$ : parâmetro de probabilidade de *acerto casual* do item $i$\n",
    "* $D$ : fator de escala, **constante igual a 1** (*1,7 para função ogiva normal*)"
   ]
  },
  {
   "cell_type": "code",
   "execution_count": 1,
   "metadata": {
    "vscode": {
     "languageId": "r"
    }
   },
   "outputs": [
    {
     "name": "stderr",
     "output_type": "stream",
     "text": [
      "Carregando pacotes exigidos: stats4\n",
      "\n",
      "Carregando pacotes exigidos: lattice\n",
      "\n",
      "Carregando pacotes exigidos: shiny\n",
      "\n"
     ]
    }
   ],
   "source": [
    "library(mirt)\n",
    "library(mirtCAT)\n",
    "library(shiny)"
   ]
  },
  {
   "cell_type": "code",
   "execution_count": 2,
   "metadata": {
    "vscode": {
     "languageId": "r"
    }
   },
   "outputs": [],
   "source": [
    "input = list()"
   ]
  },
  {
   "cell_type": "code",
   "execution_count": 3,
   "metadata": {
    "vscode": {
     "languageId": "r"
    }
   },
   "outputs": [],
   "source": [
    "# EAP | MAP | ML\n",
    "input$method = 'EAP'"
   ]
  },
  {
   "cell_type": "code",
   "execution_count": 16,
   "metadata": {
    "vscode": {
     "languageId": "r"
    }
   },
   "outputs": [],
   "source": [
    "# Rasch | 2PL | 3PL\n",
    "input$model = 'Rasch'"
   ]
  },
  {
   "cell_type": "code",
   "execution_count": 51,
   "metadata": {
    "vscode": {
     "languageId": "r"
    }
   },
   "outputs": [],
   "source": [
    "createParams = function(input){\n",
    "  if(input$model == 'Rasch'){\n",
    "       a1 = rep(1,5)\n",
    "       d = c(input$b1, input$b2, input$b3, input$b4, input$b5)\n",
    "       params = data.frame('a1' = a1, 'd' = d)\n",
    "  }\n",
    "  else if(input$model == '2PL'){\n",
    "       a1 = c(input$a1, input$a2, input$a3, input$a4, input$a5)\n",
    "       d = -a1 * c(input$b1, input$b2, input$b3, input$b4, input$b5)\n",
    "       g = rep(NA,5)\n",
    "       params = data.frame('a1' = a1, 'd' = d)\n",
    "  }\n",
    "  else if(input$model == '3PL'){\n",
    "       a1 = c(input$a1, input$a2, input$a3, input$a4, input$a5)\n",
    "       d = -a1 * c(input$b1, input$b2, input$b3, input$b4, input$b5)   \n",
    "       g = c(input$c1, input$c2, input$c3, input$c4, input$c5)\n",
    "       params = data.frame('a1' = a1, 'd' = d, 'g' = g)\n",
    "  }\n",
    "  \n",
    "  return(params)\n",
    "}"
   ]
  },
  {
   "cell_type": "code",
   "execution_count": 6,
   "metadata": {
    "vscode": {
     "languageId": "r"
    }
   },
   "outputs": [],
   "source": [
    "input$a1 = 1.8\n",
    "input$a2 = 1.8\n",
    "input$a3 = 1.8\n",
    "input$a4 = 1.8\n",
    "input$a5 = 1.8"
   ]
  },
  {
   "cell_type": "code",
   "execution_count": 7,
   "metadata": {
    "vscode": {
     "languageId": "r"
    }
   },
   "outputs": [],
   "source": [
    "input$b1 = -3\n",
    "input$b2 = -1.5\n",
    "input$b3 = 0\n",
    "input$b4 = 1.5\n",
    "input$b5 = 3"
   ]
  },
  {
   "cell_type": "code",
   "execution_count": 8,
   "metadata": {
    "vscode": {
     "languageId": "r"
    }
   },
   "outputs": [],
   "source": [
    "input$c1 = 0.2\n",
    "input$c2 = 0.2\n",
    "input$c3 = 0.2\n",
    "input$c4 = 0.2\n",
    "input$c5 = 0.2"
   ]
  },
  {
   "cell_type": "code",
   "execution_count": 55,
   "metadata": {
    "vscode": {
     "languageId": "r"
    }
   },
   "outputs": [],
   "source": [
    "params <- createParams(input)"
   ]
  },
  {
   "cell_type": "code",
   "execution_count": 56,
   "metadata": {
    "vscode": {
     "languageId": "r"
    }
   },
   "outputs": [
    {
     "data": {
      "text/html": [
       "<table class=\"dataframe\">\n",
       "<caption>A data.frame: 5 × 2</caption>\n",
       "<thead>\n",
       "\t<tr><th></th><th scope=col>a1</th><th scope=col>d</th></tr>\n",
       "\t<tr><th></th><th scope=col>&lt;dbl&gt;</th><th scope=col>&lt;dbl&gt;</th></tr>\n",
       "</thead>\n",
       "<tbody>\n",
       "\t<tr><th scope=row>1</th><td>1</td><td>-3.0</td></tr>\n",
       "\t<tr><th scope=row>2</th><td>1</td><td>-1.5</td></tr>\n",
       "\t<tr><th scope=row>3</th><td>1</td><td> 0.0</td></tr>\n",
       "\t<tr><th scope=row>4</th><td>1</td><td> 1.5</td></tr>\n",
       "\t<tr><th scope=row>5</th><td>1</td><td> 3.0</td></tr>\n",
       "</tbody>\n",
       "</table>\n"
      ],
      "text/latex": [
       "A data.frame: 5 × 2\n",
       "\\begin{tabular}{r|ll}\n",
       "  & a1 & d\\\\\n",
       "  & <dbl> & <dbl>\\\\\n",
       "\\hline\n",
       "\t1 & 1 & -3.0\\\\\n",
       "\t2 & 1 & -1.5\\\\\n",
       "\t3 & 1 &  0.0\\\\\n",
       "\t4 & 1 &  1.5\\\\\n",
       "\t5 & 1 &  3.0\\\\\n",
       "\\end{tabular}\n"
      ],
      "text/markdown": [
       "\n",
       "A data.frame: 5 × 2\n",
       "\n",
       "| <!--/--> | a1 &lt;dbl&gt; | d &lt;dbl&gt; |\n",
       "|---|---|---|\n",
       "| 1 | 1 | -3.0 |\n",
       "| 2 | 1 | -1.5 |\n",
       "| 3 | 1 |  0.0 |\n",
       "| 4 | 1 |  1.5 |\n",
       "| 5 | 1 |  3.0 |\n",
       "\n"
      ],
      "text/plain": [
       "  a1 d   \n",
       "1 1  -3.0\n",
       "2 1  -1.5\n",
       "3 1   0.0\n",
       "4 1   1.5\n",
       "5 1   3.0"
      ]
     },
     "metadata": {},
     "output_type": "display_data"
    }
   ],
   "source": [
    "head(params)"
   ]
  },
  {
   "cell_type": "code",
   "execution_count": 10,
   "metadata": {
    "vscode": {
     "languageId": "r"
    }
   },
   "outputs": [],
   "source": [
    "estimate_latent_trace = function(model, params, pattern, method){\n",
    "\n",
    "    mo = generate.mirt_object(parameters = params, itemtype = model)\n",
    "\n",
    "    scores = fscores(mo, response.pattern = pattern, method = method)\n",
    "    colnames(scores) = c('Estimativa', 'Erro Padrão')\n",
    "\n",
    "    return(scores)\n",
    "}"
   ]
  },
  {
   "cell_type": "code",
   "execution_count": 61,
   "metadata": {
    "vscode": {
     "languageId": "r"
    }
   },
   "outputs": [
    {
     "data": {
      "text/html": [
       "<table class=\"dataframe\">\n",
       "<caption>A matrix: 1 × 2 of type dbl</caption>\n",
       "<thead>\n",
       "\t<tr><th scope=col>Estimativa</th><th scope=col>Erro Padrão</th></tr>\n",
       "</thead>\n",
       "<tbody>\n",
       "\t<tr><td>-0.9233465</td><td>0.7870035</td></tr>\n",
       "</tbody>\n",
       "</table>\n"
      ],
      "text/latex": [
       "A matrix: 1 × 2 of type dbl\n",
       "\\begin{tabular}{ll}\n",
       " Estimativa & Erro Padrão\\\\\n",
       "\\hline\n",
       "\t -0.9233465 & 0.7870035\\\\\n",
       "\\end{tabular}\n"
      ],
      "text/markdown": [
       "\n",
       "A matrix: 1 × 2 of type dbl\n",
       "\n",
       "| Estimativa | Erro Padrão |\n",
       "|---|---|\n",
       "| -0.9233465 | 0.7870035 |\n",
       "\n"
      ],
      "text/plain": [
       "     Estimativa Erro Padrão\n",
       "[1,] -0.9233465 0.7870035  "
      ]
     },
     "metadata": {},
     "output_type": "display_data"
    }
   ],
   "source": [
    "estimate_latent_trace(model = input$model, params = params, pattern = c(0,0,0,1,0), method = input$method)"
   ]
  }
 ],
 "metadata": {
  "kernelspec": {
   "display_name": "R",
   "language": "R",
   "name": "ir"
  },
  "language_info": {
   "codemirror_mode": "r",
   "file_extension": ".r",
   "mimetype": "text/x-r-source",
   "name": "R",
   "pygments_lexer": "r",
   "version": "4.2.3"
  },
  "orig_nbformat": 4
 },
 "nbformat": 4,
 "nbformat_minor": 2
}
