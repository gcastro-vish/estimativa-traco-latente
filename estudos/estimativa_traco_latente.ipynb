{
 "cells": [
  {
   "attachments": {},
   "cell_type": "markdown",
   "metadata": {},
   "source": [
    "# Estimativa do traço latente utilizando o ML3 e com parâmetros dos itens conhecidos"
   ]
  },
  {
   "cell_type": "markdown",
   "metadata": {},
   "source": [
    "# Estimativa do traço latente utilizando o ML3 e com parâmetros dos itens conhecidos"
   ]
  },
  {
   "attachments": {},
   "cell_type": "markdown",
   "metadata": {},
   "source": [
    "## Modelo logístico com 3 parâmetros (ML3)\n",
    "\n",
    "- Modelo unidimensional (1 variável latente)\n",
    "\n",
    "\\begin{align*}\n",
    "    P(U_{ij} = 1 | \\theta_j) = c_i+(1-c_i)\\frac{1}{ 1 + e^{ -Da_i(\\theta_j-b_i) } }\n",
    "\\end{align*}\n",
    "\n",
    "* $U_{ij}$ : variável dicotômica (*certo ($1$) ou errado ($0$)*)\n",
    "* $\\theta_{j}$ : habilidade do indivíduo $j$ (*traço latente*)\n",
    "* $P(U_{ij} = 1 | \\theta_{j})$ : probabilidade do indivíduo $j$ acertar o item $i$ (*Função resposta do item $i$*)\n",
    "* $b_{i}$ : parâmetro de dificuldade do item $i$\n",
    "* $a_{i}$ : parâmetro de discriminação do item $i$\n",
    "* $c_{i}$ : parâmetro de probabilidade de *acerto casual* do item $i$\n",
    "* $D$ : fator de escala, **constante igual a 1** (*1,7 para função ogiva normal*)"
   ]
  },
  {
   "cell_type": "code",
   "execution_count": 1,
   "metadata": {
    "vscode": {
     "languageId": "r"
    }
   },
   "outputs": [
    {
     "name": "stderr",
     "output_type": "stream",
     "text": [
      "Carregando pacotes exigidos: stats4\n",
      "\n",
      "Carregando pacotes exigidos: lattice\n",
      "\n",
      "Carregando pacotes exigidos: shiny\n",
      "\n"
     ]
    }
   ],
   "source": [
    "library(mirt)\n",
    "library(mirtCAT)\n",
    "library(shiny)"
   ]
  },
  {
   "cell_type": "code",
   "execution_count": 2,
   "metadata": {
    "vscode": {
     "languageId": "r"
    }
   },
   "outputs": [],
   "source": [
    "a1 = rep(1.8, 5)\n",
    "d = c(-3, -1.5, 0, 1.5, 3)\n",
    "g = rep(0.2, 5)"
   ]
  },
  {
   "cell_type": "code",
   "execution_count": 3,
   "metadata": {
    "vscode": {
     "languageId": "r"
    }
   },
   "outputs": [],
   "source": [
    "params <- data.frame(a1 = a1,\n",
    "                    d = d,\n",
    "                    g = g)"
   ]
  },
  {
   "cell_type": "code",
   "execution_count": 11,
   "metadata": {
    "vscode": {
     "languageId": "r"
    }
   },
   "outputs": [],
   "source": [
    "# EAP | MAP | ML\n",
    "method = 'ML'"
   ]
  },
  {
   "cell_type": "code",
   "execution_count": 4,
   "metadata": {
    "vscode": {
     "languageId": "r"
    }
   },
   "outputs": [],
   "source": [
    "estimate_latent_trace = function(model, params, pattern, method){\n",
    "\n",
    "    mo = generate.mirt_object(parameters = params, itemtype = model)\n",
    "\n",
    "    scores = fscores(mo, response.pattern = pattern, method = method)\n",
    "    colnames(scores) = c('Estimativa', 'Erro Padrão')\n",
    "\n",
    "    return(scores)\n",
    "}"
   ]
  },
  {
   "cell_type": "code",
   "execution_count": 13,
   "metadata": {
    "vscode": {
     "languageId": "r"
    }
   },
   "outputs": [
    {
     "data": {
      "text/html": [
       "<table class=\"dataframe\">\n",
       "<caption>A matrix: 1 × 2 of type dbl</caption>\n",
       "<thead>\n",
       "\t<tr><th scope=col>Estimativa</th><th scope=col>Erro Padrão</th></tr>\n",
       "</thead>\n",
       "<tbody>\n",
       "\t<tr><td>-0.8782406</td><td>1.090195</td></tr>\n",
       "</tbody>\n",
       "</table>\n"
      ],
      "text/latex": [
       "A matrix: 1 × 2 of type dbl\n",
       "\\begin{tabular}{ll}\n",
       " Estimativa & Erro Padrão\\\\\n",
       "\\hline\n",
       "\t -0.8782406 & 1.090195\\\\\n",
       "\\end{tabular}\n"
      ],
      "text/markdown": [
       "\n",
       "A matrix: 1 × 2 of type dbl\n",
       "\n",
       "| Estimativa | Erro Padrão |\n",
       "|---|---|\n",
       "| -0.8782406 | 1.090195 |\n",
       "\n"
      ],
      "text/plain": [
       "     Estimativa Erro Padrão\n",
       "[1,] -0.8782406 1.090195   "
      ]
     },
     "metadata": {},
     "output_type": "display_data"
    }
   ],
   "source": [
    "estimate_latent_trace(model = 'Rasch', params = params, pattern = c(1,0,1,0,1), method = method)"
   ]
  }
 ],
 "metadata": {
  "kernelspec": {
   "display_name": "R",
   "language": "R",
   "name": "ir"
  },
  "language_info": {
   "codemirror_mode": "r",
   "file_extension": ".r",
   "mimetype": "text/x-r-source",
   "name": "R",
   "pygments_lexer": "r",
   "version": "4.2.3"
  },
  "orig_nbformat": 4
 },
 "nbformat": 4,
 "nbformat_minor": 2
}
